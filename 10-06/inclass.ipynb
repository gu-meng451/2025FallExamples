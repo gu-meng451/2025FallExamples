{
 "cells": [
  {
   "cell_type": "markdown",
   "id": "3dc0a6a0",
   "metadata": {},
   "source": [
    "# Example from class: bead on a hoop\n",
    "6-Oct-2025, TF"
   ]
  },
  {
   "cell_type": "code",
   "execution_count": null,
   "id": "e093ad62",
   "metadata": {},
   "outputs": [],
   "source": [
    "using Pkg\n",
    "Pkg.activate(\".\")\n",
    "using SymPy\n",
    "using LinearAlgebra"
   ]
  },
  {
   "cell_type": "markdown",
   "id": "bf1625e5",
   "metadata": {},
   "source": [
    "## Define the parts of the problem"
   ]
  },
  {
   "cell_type": "code",
   "execution_count": null,
   "id": "270253aa",
   "metadata": {},
   "outputs": [],
   "source": [
    "m, g, R, t = symbols(\"m g R t\", real=true, positive=true) \n",
    "Ω = symbols(\"Omega\", real=true)\n",
    "θ = SymFunction(\"theta\", real=true)(t)\n",
    "\n",
    "e1 = [1, 0, 0]\n",
    "e2 = [0, 1, 0]\n",
    "e3 = [0, 0, 1];"
   ]
  },
  {
   "cell_type": "markdown",
   "id": "26b4ff29",
   "metadata": {},
   "source": [
    "I've chosen to make the unit vectors into arrays, and that means I need to keep track of which basis I'm in and if that frame is rotating myself\n",
    "\n",
    "## The position vector\n",
    "Next I'll build the position vector in terms of the single coordinate of the problem $\\theta$"
   ]
  },
  {
   "cell_type": "code",
   "execution_count": null,
   "id": "98a4f1fa",
   "metadata": {},
   "outputs": [],
   "source": [
    "r = R*(sin(θ)*e1 - cos(θ)*e2)"
   ]
  },
  {
   "cell_type": "markdown",
   "id": "be6a840e",
   "metadata": {},
   "source": [
    "Differenting position, in the moving frame, builds the absolute velocity"
   ]
  },
  {
   "cell_type": "code",
   "execution_count": null,
   "id": "ad24e926",
   "metadata": {},
   "outputs": [],
   "source": [
    "v = diff.(r,t) + cross(Ω*e2, r)"
   ]
  },
  {
   "cell_type": "markdown",
   "id": "c8c503fc",
   "metadata": {},
   "source": [
    "## Lagrange's equation\n",
    "Now we have all the parts to build Lagrange's equation for this system without external forcing or damping:\n",
    "\n",
    "$$ \\frac{d}{dt}\\left( \\frac{\\partial L}{\\partial \\dot\\theta}\\right)  - \\frac{\\partial L}{\\partial \\theta} = 0$$\n"
   ]
  },
  {
   "cell_type": "code",
   "execution_count": null,
   "id": "e01b8ccb",
   "metadata": {},
   "outputs": [],
   "source": [
    "T = 1//2*m*sum(v.*v) |> simplify"
   ]
  },
  {
   "cell_type": "code",
   "execution_count": null,
   "id": "03c77df8",
   "metadata": {},
   "outputs": [],
   "source": [
    "V = m*g*r[2]"
   ]
  },
  {
   "cell_type": "code",
   "execution_count": null,
   "id": "3cf397f5",
   "metadata": {},
   "outputs": [],
   "source": [
    "L = T-V"
   ]
  },
  {
   "cell_type": "code",
   "execution_count": null,
   "id": "c2108790",
   "metadata": {},
   "outputs": [],
   "source": [
    "eq = diff(L,diff(θ,t), t) - diff(L, θ) "
   ]
  },
  {
   "cell_type": "code",
   "execution_count": null,
   "id": "61dd056d",
   "metadata": {},
   "outputs": [],
   "source": [
    "eq/m/R^2 |> expand"
   ]
  },
  {
   "cell_type": "code",
   "execution_count": null,
   "id": "ac168e5c",
   "metadata": {},
   "outputs": [],
   "source": []
  }
 ],
 "metadata": {
  "kernelspec": {
   "display_name": "Julia 1.11.7",
   "language": "julia",
   "name": "julia-1.11"
  },
  "language_info": {
   "file_extension": ".jl",
   "mimetype": "application/julia",
   "name": "julia",
   "version": "1.11.7"
  }
 },
 "nbformat": 4,
 "nbformat_minor": 5
}
