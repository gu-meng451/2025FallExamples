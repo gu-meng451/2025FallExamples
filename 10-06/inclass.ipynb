{
 "cells": [
  {
   "cell_type": "markdown",
   "id": "3dc0a6a0",
   "metadata": {},
   "source": [
    "# Example from class: bead on a hoop\n",
    "6-Oct-2025, TF"
   ]
  },
  {
   "cell_type": "code",
   "execution_count": 1,
   "id": "e093ad62",
   "metadata": {},
   "outputs": [
    {
     "name": "stderr",
     "output_type": "stream",
     "text": [
      "\u001b[32m\u001b[1m  Activating\u001b[22m\u001b[39m project at `c:\\Users\\tim\\Documents\\2025FallExamples\\10-06`\n"
     ]
    }
   ],
   "source": [
    "using Pkg\n",
    "Pkg.activate(\".\")\n",
    "using SymPy\n",
    "using LinearAlgebra"
   ]
  },
  {
   "cell_type": "markdown",
   "id": "bf1625e5",
   "metadata": {},
   "source": [
    "## Define the parts of the problem"
   ]
  },
  {
   "cell_type": "code",
   "execution_count": 2,
   "id": "270253aa",
   "metadata": {},
   "outputs": [],
   "source": [
    "m, g, R, t = symbols(\"m g R t\", real=true, positive=true) \n",
    "Ω = symbols(\"Omega\", real=true)\n",
    "θ = SymFunction(\"theta\", real=true)(t)\n",
    "\n",
    "e1 = [1, 0, 0]\n",
    "e2 = [0, 1, 0]\n",
    "e3 = [0, 0, 1];"
   ]
  },
  {
   "cell_type": "markdown",
   "id": "26b4ff29",
   "metadata": {},
   "source": [
    "I've chosen to make the unit vectors into arrays, and that means I need to keep track of which basis I'm in and if that frame is rotating myself\n",
    "\n",
    "## The position vector\n",
    "Next I'll build the position vector in terms of the single coordinate of the problem $\\theta$"
   ]
  },
  {
   "cell_type": "code",
   "execution_count": 3,
   "id": "98a4f1fa",
   "metadata": {},
   "outputs": [
    {
     "data": {
      "text/latex": [
       "$\\left[\\begin{smallmatrix}R \\sin{\\left(\\theta{\\left(t \\right)} \\right)}\\\\- R \\cos{\\left(\\theta{\\left(t \\right)} \\right)}\\\\0\\end{smallmatrix}\\right]$"
      ],
      "text/plain": [
       "3-element Vector{Sym{PyCall.PyObject}}:\n",
       "  R*sin(theta(t))\n",
       " -R*cos(theta(t))\n",
       "                0"
      ]
     },
     "metadata": {},
     "output_type": "display_data"
    }
   ],
   "source": [
    "r = R*(sin(θ)*e1 - cos(θ)*e2)"
   ]
  },
  {
   "cell_type": "markdown",
   "id": "be6a840e",
   "metadata": {},
   "source": [
    "Differenting position, in the moving frame, builds the absolute velocity"
   ]
  },
  {
   "cell_type": "code",
   "execution_count": 4,
   "id": "ad24e926",
   "metadata": {},
   "outputs": [
    {
     "data": {
      "text/latex": [
       "$\\left[\\begin{smallmatrix}R \\cos{\\left(\\theta{\\left(t \\right)} \\right)} \\frac{d}{d t} \\theta{\\left(t \\right)}\\\\R \\sin{\\left(\\theta{\\left(t \\right)} \\right)} \\frac{d}{d t} \\theta{\\left(t \\right)}\\\\- \\Omega R \\sin{\\left(\\theta{\\left(t \\right)} \\right)}\\end{smallmatrix}\\right]$"
      ],
      "text/plain": [
       "3-element Vector{Sym{PyCall.PyObject}}:\n",
       " R*cos(theta(t))*Derivative(theta(t), t)\n",
       " R*sin(theta(t))*Derivative(theta(t), t)\n",
       "                  -Omega*R*sin(theta(t))"
      ]
     },
     "metadata": {},
     "output_type": "display_data"
    }
   ],
   "source": [
    "v = diff.(r,t) + cross(Ω*e2, r)"
   ]
  },
  {
   "cell_type": "markdown",
   "id": "c8c503fc",
   "metadata": {},
   "source": [
    "## Lagrange's equation\n",
    "Now we have all the parts to build Lagrange's equation for this system without external forcing or damping:\n",
    "\n",
    "$$ \\frac{d}{dt}\\left( \\frac{\\partial L}{\\partial \\dot\\theta}\\right)  - \\frac{\\partial L}{\\partial \\theta} = 0$$\n"
   ]
  },
  {
   "cell_type": "code",
   "execution_count": 5,
   "id": "e01b8ccb",
   "metadata": {},
   "outputs": [
    {
     "data": {
      "text/latex": [
       "$\\frac{R^{2} m \\left(\\Omega^{2} \\sin^{2}{\\left(\\theta{\\left(t \\right)} \\right)} + \\left(\\frac{d}{d t} \\theta{\\left(t \\right)}\\right)^{2}\\right)}{2}$"
      ],
      "text/plain": [
       "     /                                      2\\\n",
       " 2   |     2    2             /d           \\ |\n",
       "R *m*|Omega *sin (theta(t)) + |--(theta(t))| |\n",
       "     \\                        \\dt          / /\n",
       "----------------------------------------------\n",
       "                      2                       "
      ]
     },
     "metadata": {},
     "output_type": "display_data"
    }
   ],
   "source": [
    "T = 1//2*m*sum(v.*v) |> simplify"
   ]
  },
  {
   "cell_type": "code",
   "execution_count": 6,
   "id": "03c77df8",
   "metadata": {},
   "outputs": [
    {
     "data": {
      "text/latex": [
       "$- R g m \\cos{\\left(\\theta{\\left(t \\right)} \\right)}$"
      ],
      "text/plain": [
       "-R*g*m*cos(theta(t))"
      ]
     },
     "metadata": {},
     "output_type": "display_data"
    }
   ],
   "source": [
    "V = m*g*r[2]"
   ]
  },
  {
   "cell_type": "code",
   "execution_count": 7,
   "id": "3cf397f5",
   "metadata": {},
   "outputs": [
    {
     "data": {
      "text/latex": [
       "$\\frac{R^{2} m \\left(\\Omega^{2} \\sin^{2}{\\left(\\theta{\\left(t \\right)} \\right)} + \\left(\\frac{d}{d t} \\theta{\\left(t \\right)}\\right)^{2}\\right)}{2} + R g m \\cos{\\left(\\theta{\\left(t \\right)} \\right)}$"
      ],
      "text/plain": [
       "     /                                      2\\                      \n",
       " 2   |     2    2             /d           \\ |                      \n",
       "R *m*|Omega *sin (theta(t)) + |--(theta(t))| |                      \n",
       "     \\                        \\dt          / /                      \n",
       "---------------------------------------------- + R*g*m*cos(theta(t))\n",
       "                      2                                             "
      ]
     },
     "metadata": {},
     "output_type": "display_data"
    }
   ],
   "source": [
    "L = T-V"
   ]
  },
  {
   "cell_type": "code",
   "execution_count": 8,
   "id": "c2108790",
   "metadata": {},
   "outputs": [
    {
     "data": {
      "text/latex": [
       "$- \\Omega^{2} R^{2} m \\sin{\\left(\\theta{\\left(t \\right)} \\right)} \\cos{\\left(\\theta{\\left(t \\right)} \\right)} + R^{2} m \\frac{d^{2}}{d t^{2}} \\theta{\\left(t \\right)} + R g m \\sin{\\left(\\theta{\\left(t \\right)} \\right)}$"
      ],
      "text/plain": [
       "                                                  2                            >\n",
       "       2  2                                  2   d                             >\n",
       "- Omega *R *m*sin(theta(t))*cos(theta(t)) + R *m*---(theta(t)) + R*g*m*sin(the >\n",
       "                                                   2                           >\n",
       "                                                 dt                            >\n",
       "\n",
       ">       \n",
       ">       \n",
       "> ta(t))\n",
       ">       \n",
       ">       "
      ]
     },
     "metadata": {},
     "output_type": "display_data"
    }
   ],
   "source": [
    "eq = diff(L,diff(θ,t), t) - diff(L, θ) "
   ]
  },
  {
   "cell_type": "code",
   "execution_count": 9,
   "id": "61dd056d",
   "metadata": {},
   "outputs": [
    {
     "data": {
      "text/latex": [
       "$- \\Omega^{2} \\sin{\\left(\\theta{\\left(t \\right)} \\right)} \\cos{\\left(\\theta{\\left(t \\right)} \\right)} + \\frac{d^{2}}{d t^{2}} \\theta{\\left(t \\right)} + \\frac{g \\sin{\\left(\\theta{\\left(t \\right)} \\right)}}{R}$"
      ],
      "text/plain": [
       "                                        2                             \n",
       "       2                               d               g*sin(theta(t))\n",
       "- Omega *sin(theta(t))*cos(theta(t)) + ---(theta(t)) + ---------------\n",
       "                                         2                    R       \n",
       "                                       dt                             "
      ]
     },
     "metadata": {},
     "output_type": "display_data"
    }
   ],
   "source": [
    "eq/m/R^2 |> expand"
   ]
  },
  {
   "cell_type": "code",
   "execution_count": 10,
   "id": "ac168e5c",
   "metadata": {},
   "outputs": [],
   "source": []
  }
 ],
 "metadata": {
  "kernelspec": {
   "display_name": "Julia 1.11.7",
   "language": "julia",
   "name": "julia-1.11"
  },
  "language_info": {
   "file_extension": ".jl",
   "mimetype": "application/julia",
   "name": "julia",
   "version": "1.11.7"
  }
 },
 "nbformat": 4,
 "nbformat_minor": 5
}
