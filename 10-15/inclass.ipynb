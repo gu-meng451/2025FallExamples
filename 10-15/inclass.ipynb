{
 "cells": [
  {
   "cell_type": "code",
   "execution_count": 5,
   "id": "c3ea2e9e",
   "metadata": {},
   "outputs": [
    {
     "name": "stderr",
     "output_type": "stream",
     "text": [
      "\u001b[32m\u001b[1m  Activating\u001b[22m\u001b[39m project at `c:\\Users\\tim\\Documents\\2025FallExamples\\10-15`\n"
     ]
    }
   ],
   "source": [
    "using Pkg\n",
    "Pkg.activate(\".\")\n",
    "using SymPy\n",
    "using LinearAlgebra"
   ]
  },
  {
   "cell_type": "code",
   "execution_count": 9,
   "id": "113aeef9",
   "metadata": {},
   "outputs": [
    {
     "data": {
      "text/latex": [
       "$q_{2}{\\left(t \\right)}$"
      ],
      "text/plain": [
       "q_2(t)"
      ]
     },
     "metadata": {},
     "output_type": "display_data"
    }
   ],
   "source": [
    "m, g, l, t = symbols(\"m g l t\", real=true, positive=true)\n",
    "q1 = SymFunction(\"q_1\")(t)\n",
    "q2 = SymFunction(\"q_2\")(t)\n"
   ]
  },
  {
   "cell_type": "code",
   "execution_count": 7,
   "id": "bdf61186",
   "metadata": {},
   "outputs": [
    {
     "data": {
      "text/latex": [
       "$\\left[\\begin{smallmatrix}m & 0\\\\0 & m\\end{smallmatrix}\\right]$"
      ],
      "text/plain": [
       "2×2 Matrix{Sym{PyCall.PyObject}}:\n",
       " m  0\n",
       " 0  m"
      ]
     },
     "metadata": {},
     "output_type": "display_data"
    }
   ],
   "source": [
    "M = diagm(0=>[m,m])"
   ]
  },
  {
   "cell_type": "code",
   "execution_count": 8,
   "id": "6f1659ee",
   "metadata": {},
   "outputs": [
    {
     "data": {
      "text/latex": [
       "$\\left[\\begin{smallmatrix}0\\\\- g m\\end{smallmatrix}\\right]$"
      ],
      "text/plain": [
       "2-element Vector{Sym{PyCall.PyObject}}:\n",
       "    0\n",
       " -g*m"
      ]
     },
     "metadata": {},
     "output_type": "display_data"
    }
   ],
   "source": [
    "Q = [0; -m*g]"
   ]
  },
  {
   "cell_type": "code",
   "execution_count": 10,
   "id": "e3cf8a95",
   "metadata": {},
   "outputs": [
    {
     "data": {
      "text/latex": [
       "$- l^{2} + q_{1}^{2}{\\left(t \\right)} + q_{2}^{2}{\\left(t \\right)}$"
      ],
      "text/plain": [
       "   2      2         2   \n",
       "- l  + q_1 (t) + q_2 (t)"
      ]
     },
     "metadata": {},
     "output_type": "display_data"
    }
   ],
   "source": [
    "ϕ = -l^2 + q1^2 + q2^2"
   ]
  },
  {
   "cell_type": "code",
   "execution_count": 12,
   "id": "287d0fc7",
   "metadata": {},
   "outputs": [
    {
     "data": {
      "text/latex": [
       "$\\left[\\begin{smallmatrix}2 q_{1}{\\left(t \\right)} & 2 q_{2}{\\left(t \\right)}\\end{smallmatrix}\\right]$"
      ],
      "text/plain": [
       "1×2 Matrix{Sym{PyCall.PyObject}}:\n",
       " 2*q_1(t)  2*q_2(t)"
      ]
     },
     "metadata": {},
     "output_type": "display_data"
    }
   ],
   "source": [
    "A = [diff(ϕ,q1) diff(ϕ,q2)]"
   ]
  },
  {
   "cell_type": "code",
   "execution_count": 14,
   "id": "f7c63958",
   "metadata": {},
   "outputs": [
    {
     "data": {
      "text/latex": [
       "$\\left[\\begin{smallmatrix}\\sqrt{m} & 0\\\\0 & \\sqrt{m}\\end{smallmatrix}\\right]$"
      ],
      "text/plain": [
       "2×2 Matrix{Sym{PyCall.PyObject}}:\n",
       " sqrt(m)        0\n",
       "       0  sqrt(m)"
      ]
     },
     "metadata": {},
     "output_type": "display_data"
    }
   ],
   "source": [
    "M12 = sqrt.(M) # simple case here"
   ]
  },
  {
   "cell_type": "code",
   "execution_count": 15,
   "id": "11c927c2",
   "metadata": {},
   "outputs": [
    {
     "data": {
      "text/latex": [
       "$\\left[\\begin{smallmatrix}2 & 0\\\\0 & 2\\end{smallmatrix}\\right]$"
      ],
      "text/plain": [
       "2×2 Matrix{Sym{PyCall.PyObject}}:\n",
       " 2  0\n",
       " 0  2"
      ]
     },
     "metadata": {},
     "output_type": "display_data"
    }
   ],
   "source": [
    "H = [diff(ϕ,qi,qj) for qi in [q1,q2], qj in [q1,q2]]"
   ]
  },
  {
   "cell_type": "code",
   "execution_count": 16,
   "id": "bd273027",
   "metadata": {},
   "outputs": [
    {
     "data": {
      "text/latex": [
       "$- 2 \\left(\\frac{d}{d t} q_{1}{\\left(t \\right)}\\right)^{2} - 2 \\left(\\frac{d}{d t} q_{2}{\\left(t \\right)}\\right)^{2}$"
      ],
      "text/plain": [
       "                2                 2\n",
       "    /d         \\      /d         \\ \n",
       "- 2*|--(q_1(t))|  - 2*|--(q_2(t))| \n",
       "    \\dt        /      \\dt        / "
      ]
     },
     "metadata": {},
     "output_type": "display_data"
    }
   ],
   "source": [
    "Dot(a,b) = sum( a .* b )\n",
    "qdot = [diff(q1,t), diff(q2,t)]\n",
    "b = -Dot(qdot, H*qdot)"
   ]
  },
  {
   "cell_type": "code",
   "execution_count": null,
   "id": "a4e3e7e5",
   "metadata": {},
   "outputs": [],
   "source": []
  }
 ],
 "metadata": {
  "kernelspec": {
   "display_name": "Julia 1.11.7",
   "language": "julia",
   "name": "julia-1.11"
  },
  "language_info": {
   "file_extension": ".jl",
   "mimetype": "application/julia",
   "name": "julia",
   "version": "1.11.7"
  }
 },
 "nbformat": 4,
 "nbformat_minor": 5
}
