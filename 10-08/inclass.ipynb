{
 "cells": [
  {
   "cell_type": "code",
   "execution_count": 1,
   "id": "6032018c",
   "metadata": {},
   "outputs": [
    {
     "name": "stderr",
     "output_type": "stream",
     "text": [
      "\u001b[32m\u001b[1m  Activating\u001b[22m\u001b[39m project at `c:\\Users\\tim\\Documents\\2025FallExamples\\10-08`\n"
     ]
    }
   ],
   "source": [
    "using Pkg\n",
    "Pkg.activate(\".\")\n",
    "using SymPy\n",
    "using LinearAlgebra"
   ]
  },
  {
   "cell_type": "markdown",
   "id": "6d44b47b",
   "metadata": {},
   "source": [
    "# Afterclass wrap up\n",
    "I'll redo the block-pendulum example that we analytically did in class today (8-Oct-2025)"
   ]
  },
  {
   "cell_type": "code",
   "execution_count": 11,
   "id": "50011630",
   "metadata": {},
   "outputs": [],
   "source": [
    "g, l, m1, m2, k, c, t = symbols(\"g l m_1 m_2 k c t\", real=true, positive=true)\n",
    "f1, f2 = symbols(\"f_1 f_2\", real=true)\n",
    "x = SymFunction(\"x\", real=true)(t)\n",
    "θ = SymFunction(\"theta\", real=true)(t)\n",
    "\n",
    "ihat = [1,0,0]\n",
    "jhat = [0,1,0]\n",
    "khat = [0,0,1]\n",
    "Dot(a,b) = sum( a .* b );"
   ]
  },
  {
   "cell_type": "code",
   "execution_count": 6,
   "id": "390345f5",
   "metadata": {},
   "outputs": [],
   "source": [
    "r1 = x*ihat\n",
    "r2 = r1 + l*(sin(θ)*ihat - cos(θ)*jhat);"
   ]
  },
  {
   "cell_type": "code",
   "execution_count": 16,
   "id": "92e69b48",
   "metadata": {},
   "outputs": [
    {
     "data": {
      "text/latex": [
       "$- g l m_{2} \\cos{\\left(\\theta{\\left(t \\right)} \\right)} + \\frac{k x^{2}{\\left(t \\right)}}{2}$"
      ],
      "text/plain": [
       "                            2   \n",
       "                         k*x (t)\n",
       "-g*l*m_2*cos(theta(t)) + -------\n",
       "                            2   "
      ]
     },
     "metadata": {},
     "output_type": "display_data"
    }
   ],
   "source": [
    "V = 1//2*k*x^2 + m1*g*Dot(r1,jhat) + m2*g*Dot(r2,jhat)"
   ]
  },
  {
   "cell_type": "code",
   "execution_count": 15,
   "id": "146eca2f",
   "metadata": {},
   "outputs": [
    {
     "data": {
      "text/latex": [
       "$\\frac{m_{1} \\left(\\frac{d}{d t} x{\\left(t \\right)}\\right)^{2}}{2} + \\frac{m_{2} \\left(l^{2} \\left(\\frac{d}{d t} \\theta{\\left(t \\right)}\\right)^{2} + 2 l \\cos{\\left(\\theta{\\left(t \\right)} \\right)} \\frac{d}{d t} \\theta{\\left(t \\right)} \\frac{d}{d t} x{\\left(t \\right)} + \\left(\\frac{d}{d t} x{\\left(t \\right)}\\right)^{2}\\right)}{2}$"
      ],
      "text/plain": [
       "              2       /                 2                                      >\n",
       "    /d       \\        | 2 /d           \\                      d            d   >\n",
       "m_1*|--(x(t))|    m_2*|l *|--(theta(t))|  + 2*l*cos(theta(t))*--(theta(t))*--( >\n",
       "    \\dt      /        \\   \\dt          /                      dt           dt  >\n",
       "--------------- + ------------------------------------------------------------ >\n",
       "       2                                                 2                     >\n",
       "\n",
       ">                   2\\\n",
       ">         /d       \\ |\n",
       "> x(t)) + |--(x(t))| |\n",
       ">         \\dt      / /\n",
       "> --------------------\n",
       ">                     "
      ]
     },
     "metadata": {},
     "output_type": "display_data"
    }
   ],
   "source": [
    "T = 1//2*m1*Dot( diff.(r1,t), diff.(r1,t) ) + 1//2*m2*Dot( diff.(r2,t), diff.(r2,t) ) |> simplify"
   ]
  },
  {
   "cell_type": "code",
   "execution_count": 17,
   "id": "54983fd7",
   "metadata": {},
   "outputs": [
    {
     "data": {
      "text/latex": [
       "$g l m_{2} \\cos{\\left(\\theta{\\left(t \\right)} \\right)} - \\frac{k x^{2}{\\left(t \\right)}}{2} + \\frac{m_{1} \\left(\\frac{d}{d t} x{\\left(t \\right)}\\right)^{2}}{2} + \\frac{m_{2} \\left(l^{2} \\left(\\frac{d}{d t} \\theta{\\left(t \\right)}\\right)^{2} + 2 l \\cos{\\left(\\theta{\\left(t \\right)} \\right)} \\frac{d}{d t} \\theta{\\left(t \\right)} \\frac{d}{d t} x{\\left(t \\right)} + \\left(\\frac{d}{d t} x{\\left(t \\right)}\\right)^{2}\\right)}{2}$"
      ],
      "text/plain": [
       "                                                2       /                 2    >\n",
       "                                      /d       \\        | 2 /d           \\     >\n",
       "                           2      m_1*|--(x(t))|    m_2*|l *|--(theta(t))|  +  >\n",
       "                        k*x (t)       \\dt      /        \\   \\dt          /     >\n",
       "g*l*m_2*cos(theta(t)) - ------- + --------------- + -------------------------- >\n",
       "                           2             2                                     >\n",
       "\n",
       ">                                                     2\\\n",
       ">                   d            d          /d       \\ |\n",
       "> 2*l*cos(theta(t))*--(theta(t))*--(x(t)) + |--(x(t))| |\n",
       ">                   dt           dt         \\dt      / /\n",
       "> ------------------------------------------------------\n",
       ">              2                                        "
      ]
     },
     "metadata": {},
     "output_type": "display_data"
    }
   ],
   "source": [
    "L = T-V"
   ]
  },
  {
   "cell_type": "code",
   "execution_count": 25,
   "id": "b5d323a6",
   "metadata": {},
   "outputs": [
    {
     "data": {
      "text/latex": [
       "$\\frac{c \\left(\\frac{d}{d t} x{\\left(t \\right)}\\right)^{2}}{2}$"
      ],
      "text/plain": [
       "            2\n",
       "  /d       \\ \n",
       "c*|--(x(t))| \n",
       "  \\dt      / \n",
       "-------------\n",
       "      2      "
      ]
     },
     "metadata": {},
     "output_type": "display_data"
    }
   ],
   "source": [
    "D = 1//2*c*diff(x,t)^2"
   ]
  },
  {
   "cell_type": "code",
   "execution_count": 23,
   "id": "c95ace04",
   "metadata": {},
   "outputs": [
    {
     "data": {
      "text/latex": [
       "$f_{1} + f_{2}$"
      ],
      "text/plain": [
       "f_1 + f_2"
      ]
     },
     "metadata": {},
     "output_type": "display_data"
    }
   ],
   "source": [
    "F1 = f1*ihat\n",
    "F2 = f2*ihat\n",
    "\n",
    "Q1 = Dot(F1, diff.(r1,x)) + Dot(F2, diff.(r2,x))"
   ]
  },
  {
   "cell_type": "code",
   "execution_count": 24,
   "id": "fabcb45d",
   "metadata": {},
   "outputs": [
    {
     "data": {
      "text/latex": [
       "$f_{2} l \\cos{\\left(\\theta{\\left(t \\right)} \\right)}$"
      ],
      "text/plain": [
       "f_2*l*cos(theta(t))"
      ]
     },
     "metadata": {},
     "output_type": "display_data"
    }
   ],
   "source": [
    "Q2 = Dot(F1, diff.(r1,θ)) + Dot(F2, diff.(r2,θ))"
   ]
  },
  {
   "cell_type": "code",
   "execution_count": 29,
   "id": "6a734bc1",
   "metadata": {},
   "outputs": [
    {
     "data": {
      "text/latex": [
       "$\\left[\\begin{smallmatrix}c \\frac{d}{d t} x{\\left(t \\right)} - f_{1} - f_{2} + k x{\\left(t \\right)} + m_{1} \\frac{d^{2}}{d t^{2}} x{\\left(t \\right)} + m_{2} \\left(- l \\sin{\\left(\\theta{\\left(t \\right)} \\right)} \\left(\\frac{d}{d t} \\theta{\\left(t \\right)}\\right)^{2} + l \\cos{\\left(\\theta{\\left(t \\right)} \\right)} \\frac{d^{2}}{d t^{2}} \\theta{\\left(t \\right)} + \\frac{d^{2}}{d t^{2}} x{\\left(t \\right)}\\right)\\\\- f_{2} l \\cos{\\left(\\theta{\\left(t \\right)} \\right)} + l m_{2} \\left(g \\sin{\\left(\\theta{\\left(t \\right)} \\right)} + l \\frac{d^{2}}{d t^{2}} \\theta{\\left(t \\right)} + \\cos{\\left(\\theta{\\left(t \\right)} \\right)} \\frac{d^{2}}{d t^{2}} x{\\left(t \\right)}\\right)\\end{smallmatrix}\\right]$"
      ],
      "text/plain": [
       "2-element Vector{Sym{PyCall.PyObject}}:\n",
       " c*Derivative(x(t), t) - f_1 - f_2 + k*x(t) + m_1*Derivative(x(t), (t, 2)) + m_2*(-l*sin(theta(t))*Derivative(theta(t), t)^2 + l*cos(theta(t))*Derivative(theta(t), (t, 2)) + Derivative(x(t), (t, 2)))\n",
       "                                                                               -f_2*l*cos(theta(t)) + l*m_2*(g*sin(theta(t)) + l*Derivative(theta(t), (t, 2)) + cos(theta(t))*Derivative(x(t), (t, 2)))"
      ]
     },
     "metadata": {},
     "output_type": "display_data"
    }
   ],
   "source": [
    "eom = [ diff(L,diff(q,t),t) - diff(L,q) + diff(D,diff(q,t)) |> simplify for q in [x,θ]] - [Q1,Q2]"
   ]
  },
  {
   "cell_type": "markdown",
   "id": "c0bc14e8",
   "metadata": {},
   "source": [
    "If we want to reorganize this into matrix notation (to peak at the mass matrix) we can do the following"
   ]
  },
  {
   "cell_type": "code",
   "execution_count": 31,
   "id": "7e40a159",
   "metadata": {},
   "outputs": [
    {
     "data": {
      "text/latex": [
       "$\\left[\\begin{smallmatrix}m_{1} + m_{2} & l m_{2} \\cos{\\left(\\theta{\\left(t \\right)} \\right)}\\\\l m_{2} \\cos{\\left(\\theta{\\left(t \\right)} \\right)} & l^{2} m_{2}\\end{smallmatrix}\\right]$"
      ],
      "text/plain": [
       "2×2 Matrix{Sym{PyCall.PyObject}}:\n",
       "           m_1 + m_2  l*m_2*cos(theta(t))\n",
       " l*m_2*cos(theta(t))              l^2*m_2"
      ]
     },
     "metadata": {},
     "output_type": "display_data"
    }
   ],
   "source": [
    "M = [diff(eq,diff(q,t,t)) for eq in eom, q in [x,θ] ]"
   ]
  },
  {
   "cell_type": "code",
   "execution_count": null,
   "id": "190aaa34",
   "metadata": {},
   "outputs": [],
   "source": []
  }
 ],
 "metadata": {
  "kernelspec": {
   "display_name": "Julia 1.11.7",
   "language": "julia",
   "name": "julia-1.11"
  },
  "language_info": {
   "file_extension": ".jl",
   "mimetype": "application/julia",
   "name": "julia",
   "version": "1.11.7"
  }
 },
 "nbformat": 4,
 "nbformat_minor": 5
}
