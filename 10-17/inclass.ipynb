{
 "cells": [
  {
   "cell_type": "code",
   "execution_count": null,
   "id": "7e526c74",
   "metadata": {},
   "outputs": [],
   "source": [
    "using Pkg\n",
    "Pkg.activate(\".\")\n",
    "using Plots\n",
    "using LinearAlgebra\n",
    "using ForwardDiff"
   ]
  },
  {
   "cell_type": "code",
   "execution_count": null,
   "id": "8da4ab5b",
   "metadata": {},
   "outputs": [],
   "source": [
    "# The residual function\n",
    "f(x) = [x[1]^2/4 + x[2]^2 - 1,\n",
    "        0.7*x[1]^4 + 0.1*x[1]^3 - 2.5*x[1]^2 + 1 - x[2] ]"
   ]
  },
  {
   "cell_type": "code",
   "execution_count": null,
   "id": "6c2ee5bd",
   "metadata": {},
   "outputs": [],
   "source": [
    "# Jacobian\n",
    "J(x) = [(2*x[1]/4) (2*x[2]);\n",
    "    (0.7*4*x[1]^3+0.1*3*x[1]^2-2.5*2*x[1]) (-1)]"
   ]
  },
  {
   "cell_type": "code",
   "execution_count": null,
   "id": "2074423b",
   "metadata": {},
   "outputs": [],
   "source": [
    "# make a plot (since this is 2D)\n",
    "plt = plot(x -> +sqrt(1 - x^2 / 4), -2, 2,\n",
    "    aspect_ratio=:equal, xlabel=\"x\", ylabel=\"y\", ylim=(-1.5, 1.5))\n",
    "plot!(plt, x -> -sqrt(1 - x^2 / 4), -2, 2)\n",
    "plot!(plt, x -> 0.7 * x^4 + 0.1 * x^3 - 2.5 * x^2 + 1, -2, 2)"
   ]
  },
  {
   "cell_type": "code",
   "execution_count": null,
   "id": "6c31d63c",
   "metadata": {},
   "outputs": [],
   "source": [
    "# initial guess\n",
    "x0 = [1; -1]\n",
    "\n",
    "# tolerance\n",
    "AbsTol = 1e-4\n",
    "RelTol = 1e-4\n",
    "\n",
    "# maximum iterations\n",
    "maxIter = 100\n",
    "\n",
    "# loop using Newton-Raphson\n",
    "flag = 0\n",
    "i = 0\n",
    "xn = copy(x0)\n",
    "Fn = f(xn)\n",
    "while flag == 0\n",
    "    i += 1\n",
    "\n",
    "    Δx = J(xn)\\(-Fn)\n",
    "    xn += Δx\n",
    "    Fn = f(xn) # this is both the actual residual and needed for the next step\n",
    "    err = norm(Fn)\n",
    "\n",
    "    if err < max(AbsTol, RelTol*norm(xn) )\n",
    "        flag = 1\n",
    "    elseif i >= maxIter\n",
    "        flag = -1\n",
    "        error(\"Failed to converge.\")\n",
    "    end\n",
    "\n",
    "end\n",
    "xn"
   ]
  },
  {
   "cell_type": "code",
   "execution_count": null,
   "id": "b3158eac",
   "metadata": {},
   "outputs": [],
   "source": [
    "using ForwardDiff"
   ]
  },
  {
   "cell_type": "code",
   "execution_count": null,
   "id": "85c80c12",
   "metadata": {},
   "outputs": [],
   "source": [
    "Jn(x) = ForwardDiff.jacobian(f,x)"
   ]
  },
  {
   "cell_type": "code",
   "execution_count": null,
   "id": "7d5e3a8b",
   "metadata": {},
   "outputs": [],
   "source": [
    "Jn(xn) - J(xn) |> norm"
   ]
  },
  {
   "cell_type": "code",
   "execution_count": null,
   "id": "c906ff78",
   "metadata": {},
   "outputs": [],
   "source": []
  }
 ],
 "metadata": {
  "kernelspec": {
   "display_name": "Julia 1.12.0",
   "language": "julia",
   "name": "julia-1.12"
  },
  "language_info": {
   "file_extension": ".jl",
   "mimetype": "application/julia",
   "name": "julia",
   "version": "1.12.0"
  }
 },
 "nbformat": 4,
 "nbformat_minor": 5
}
