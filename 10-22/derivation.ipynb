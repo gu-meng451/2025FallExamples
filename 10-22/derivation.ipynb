{
 "cells": [
  {
   "cell_type": "markdown",
   "id": "0f5d04d0",
   "metadata": {},
   "source": [
    "# Snap through example\n",
    "Derivation of the model based on a modified Von Mises Arch from Fig2 of:\n",
    "https://doi.org/10.1016/j.ijsolstr.2020.11.037"
   ]
  },
  {
   "cell_type": "code",
   "execution_count": 12,
   "id": "703888fd",
   "metadata": {},
   "outputs": [
    {
     "name": "stderr",
     "output_type": "stream",
     "text": [
      "\u001b[32m\u001b[1m  Activating\u001b[22m\u001b[39m project at `c:\\Users\\tim\\Documents\\2025FallExamples\\10-22`\n"
     ]
    }
   ],
   "source": [
    "using Pkg\n",
    "Pkg.activate(\".\")\n",
    "using SymPy\n",
    "using LinearAlgebra"
   ]
  },
  {
   "cell_type": "code",
   "execution_count": 13,
   "id": "8476f07b",
   "metadata": {},
   "outputs": [
    {
     "data": {
      "text/latex": [
       "\\begin{equation*}\\begin{cases}\\alpha & \\text{=>} &1.25\\\\\\kappa & \\text{=>} &0.5\\\\\\end{cases}\\end{equation*}"
      ],
      "text/plain": [
       "Dict{Sym{PyCall.PyObject}, Float64} with 2 entries:\n",
       "  alpha => 1.25\n",
       "  kappa => 0.5"
      ]
     },
     "metadata": {},
     "output_type": "display_data"
    }
   ],
   "source": [
    "k1, k2, lo, wo, ho = symbols(\"k_1 k_2 l_o w_o h_o\", real=true, positive=true)\n",
    "θ, ua, up, fa = symbols(\"theta u_a u_p f_a\", real=true)\n",
    "κ, α = symbols(\"kappa alpha\", real=true, positive=true)\n",
    "nondim = Dict(k2 => κ * k1, lo => α * ho, wo => ho * sqrt(α^2 - 1))\n",
    "L = sqrt(wo^2 + (ho - up)^2)\n",
    "vals = Dict(κ => 1 / 2, α => 5 / 4)"
   ]
  },
  {
   "cell_type": "code",
   "execution_count": 14,
   "id": "8854f424",
   "metadata": {},
   "outputs": [
    {
     "data": {
      "text/latex": [
       "$k_{1} \\left(- l_{o} + \\sqrt{w_{o}^{2} + \\left(h_{o} - u_{p}\\right)^{2}}\\right)^{2} + \\frac{k_{2} \\left(- u_{a} + u_{p}\\right)^{2}}{2}$"
      ],
      "text/plain": [
       "                                     2                    \n",
       "    /          _____________________\\                    2\n",
       "    |         /    2              2 |    k_2*(-u_a + u_p) \n",
       "k_1*\\-l_o + \\/  w_o  + (h_o - u_p)  /  + -----------------\n",
       "                                                 2        "
      ]
     },
     "metadata": {},
     "output_type": "display_data"
    }
   ],
   "source": [
    "V = 2*1//2*k1*(L-lo)^2 + 1//2*k2*(up-ua)^2"
   ]
  },
  {
   "cell_type": "code",
   "execution_count": 15,
   "id": "7ee0a081",
   "metadata": {},
   "outputs": [
    {
     "data": {
      "text/latex": [
       "$\\frac{2 k_{1} \\left(h_{o} - u_{p}\\right) \\left(l_{o} - \\sqrt{w_{o}^{2} + \\left(h_{o} - u_{p}\\right)^{2}}\\right) - k_{2} \\left(u_{a} - u_{p}\\right) \\sqrt{w_{o}^{2} + \\left(h_{o} - u_{p}\\right)^{2}}}{\\sqrt{w_{o}^{2} + \\left(h_{o} - u_{p}\\right)^{2}}}$"
      ],
      "text/plain": [
       "                  /         _____________________\\                      ______ >\n",
       "                  |        /    2              2 |                     /    2  >\n",
       "2*k_1*(h_o - u_p)*\\l_o - \\/  w_o  + (h_o - u_p)  / - k_2*(u_a - u_p)*\\/  w_o   >\n",
       "------------------------------------------------------------------------------ >\n",
       "                                     _____________________                     >\n",
       "                                    /    2              2                      >\n",
       "                                  \\/  w_o  + (h_o - u_p)                       >\n",
       "\n",
       "> _______________\n",
       ">              2 \n",
       "> + (h_o - u_p)  \n",
       "> ---------------\n",
       ">                \n",
       ">                \n",
       ">                "
      ]
     },
     "metadata": {},
     "output_type": "display_data"
    }
   ],
   "source": [
    "eq1 = diff(V,up) |> simplify"
   ]
  },
  {
   "cell_type": "code",
   "execution_count": 16,
   "id": "ade5723b",
   "metadata": {},
   "outputs": [
    {
     "data": {
      "text/latex": [
       "$- f_{a} + k_{2} \\left(u_{a} - u_{p}\\right)$"
      ],
      "text/plain": [
       "-f_a + k_2*(u_a - u_p)"
      ]
     },
     "metadata": {},
     "output_type": "display_data"
    }
   ],
   "source": [
    "eq2 = diff(V,ua)-fa |> simplify"
   ]
  },
  {
   "cell_type": "code",
   "execution_count": 17,
   "id": "5bb552e5",
   "metadata": {},
   "outputs": [
    {
     "data": {
      "text/latex": [
       "$\\frac{- 2 \\alpha u_{p} + 2 \\alpha + \\sqrt{\\alpha^{2} + u_{p}^{2} - 2 u_{p}} \\left(- \\kappa u_{a} + \\kappa u_{p} + 2 u_{p} - 2\\right)}{\\sqrt{\\alpha^{2} + u_{p}^{2} - 2 u_{p}}}$"
      ],
      "text/plain": [
       "                            _______________________                            >\n",
       "                           /      2      2                                     >\n",
       "-2*alpha*u_p + 2*alpha + \\/  alpha  + u_p  - 2*u_p *(-kappa*u_a + kappa*u_p +  >\n",
       "------------------------------------------------------------------------------ >\n",
       "                                  _______________________                      >\n",
       "                                 /      2      2                               >\n",
       "                               \\/  alpha  + u_p  - 2*u_p                       >\n",
       "\n",
       ">           \n",
       ">           \n",
       "> 2*u_p - 2)\n",
       "> ----------\n",
       ">           \n",
       ">           \n",
       ">           "
      ]
     },
     "metadata": {},
     "output_type": "display_data"
    }
   ],
   "source": [
    "eq1bar = eq1/ho/k1 |> subs(nondim) |> subs(up => up * ho, ua => ua * ho, fa => fa * k1 * ho) |> simplify |> expand |> simplify"
   ]
  },
  {
   "cell_type": "code",
   "execution_count": 18,
   "id": "7116f3fc",
   "metadata": {},
   "outputs": [
    {
     "data": {
      "text/latex": [
       "$- f_{a} + \\kappa \\left(u_{a} - u_{p}\\right)$"
      ],
      "text/plain": [
       "-f_a + kappa*(u_a - u_p)"
      ]
     },
     "metadata": {},
     "output_type": "display_data"
    }
   ],
   "source": [
    "eq2bar = eq2 / ho / k1 |> subs(nondim) |> subs(up => up * ho, ua => ua * ho, fa => fa * k1 * ho) |> simplify"
   ]
  },
  {
   "cell_type": "code",
   "execution_count": 19,
   "id": "ee11aaa2",
   "metadata": {},
   "outputs": [
    {
     "data": {
      "text/latex": [
       "$\\left[\\begin{smallmatrix}\\frac{- 2 \\alpha u_{p} + 2 \\alpha + \\sqrt{\\alpha^{2} + u_{p}^{2} - 2 u_{p}} \\left(- \\kappa u_{a} + \\kappa u_{p} + 2 u_{p} - 2\\right)}{\\sqrt{\\alpha^{2} + u_{p}^{2} - 2 u_{p}}}\\\\- f_{a} + \\kappa \\left(u_{a} - u_{p}\\right)\\end{smallmatrix}\\right]$"
      ],
      "text/plain": [
       "2-element Vector{Sym{PyCall.PyObject}}:\n",
       " (-2*alpha*u_p + 2*alpha + sqrt(alpha^2 + u_p^2 - 2*u_p)*(-kappa*u_a + kappa*u_p + 2*u_p - 2))/sqrt(alpha^2 + u_p^2 - 2*u_p)\n",
       "                                                                                                    -f_a + kappa*(u_a - u_p)"
      ]
     },
     "metadata": {},
     "output_type": "display_data"
    }
   ],
   "source": [
    "R = [eq1bar, eq2bar]"
   ]
  },
  {
   "cell_type": "code",
   "execution_count": 20,
   "id": "5cd3cac5",
   "metadata": {},
   "outputs": [
    {
     "data": {
      "text/latex": [
       "$\\left[\\begin{smallmatrix}- \\kappa & \\frac{\\left(u_{p} - 1\\right) \\left(\\alpha^{2} + u_{p}^{2} - 2 u_{p}\\right) \\left(2 \\alpha u_{p} - 2 \\alpha + \\sqrt{\\alpha^{2} + u_{p}^{2} - 2 u_{p}} \\left(\\kappa u_{a} - \\kappa u_{p} - 2 u_{p} + 2\\right)\\right) + \\left(\\left(- 2 \\alpha + \\left(\\kappa + 2\\right) \\sqrt{\\alpha^{2} + u_{p}^{2} - 2 u_{p}}\\right) \\sqrt{\\alpha^{2} + u_{p}^{2} - 2 u_{p}} - \\left(u_{p} - 1\\right) \\left(\\kappa u_{a} - \\kappa u_{p} - 2 u_{p} + 2\\right)\\right) \\left(\\alpha^{2} + u_{p}^{2} - 2 u_{p}\\right)^{\\frac{3}{2}}}{\\left(\\alpha^{2} + u_{p}^{2} - 2 u_{p}\\right)^{\\frac{5}{2}}}\\\\\\kappa & - \\kappa\\end{smallmatrix}\\right]$"
      ],
      "text/plain": [
       "2×2 Matrix{Sym{PyCall.PyObject}}:\n",
       " -kappa  …  ((u_p - 1)*(alpha^2 + u_p^2 - 2*u_p)*(2*alpha*u_p - 2*alpha + sqrt(alpha^2 + u_p^2 - 2*u_p)*(kappa*u_a - kappa*u_p - 2*u_p + 2)) + ((-2*alpha + (kappa + 2)*sqrt(alpha^2 + u_p^2 - 2*u_p))*sqrt(alpha^2 + u_p^2 - 2*u_p) - (u_p - 1)*(kappa*u_a - kappa*u_p - 2*u_p + 2))*(alpha^2 + u_p^2 - 2*u_p)^(3/2))/(alpha^2 + u_p^2 - 2*u_p)^(5/2)\n",
       "  kappa                                                                                                                                                                                                                                                                                                                                         -kappa"
      ]
     },
     "metadata": {},
     "output_type": "display_data"
    }
   ],
   "source": [
    "Fu = [ diff(r,u) |> simplify for r in R, u in [ua,up] ]"
   ]
  },
  {
   "cell_type": "code",
   "execution_count": 21,
   "id": "a959b57f",
   "metadata": {},
   "outputs": [
    {
     "data": {
      "text/latex": [
       "$\\left[\\begin{smallmatrix}0\\\\-1\\end{smallmatrix}\\right]$"
      ],
      "text/plain": [
       "2×1 Matrix{Sym{PyCall.PyObject}}:\n",
       "  0\n",
       " -1"
      ]
     },
     "metadata": {},
     "output_type": "display_data"
    }
   ],
   "source": [
    "Fλ = [diff(r,λ) |> simplify for r in R, λ in [fa] ]"
   ]
  },
  {
   "cell_type": "code",
   "execution_count": 22,
   "id": "5d849cf2",
   "metadata": {},
   "outputs": [],
   "source": []
  }
 ],
 "metadata": {
  "kernelspec": {
   "display_name": "Julia 1.11.7",
   "language": "julia",
   "name": "julia-1.11"
  },
  "language_info": {
   "file_extension": ".jl",
   "mimetype": "application/julia",
   "name": "julia",
   "version": "1.11.7"
  }
 },
 "nbformat": 4,
 "nbformat_minor": 5
}
