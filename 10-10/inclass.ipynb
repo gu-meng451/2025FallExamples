{
 "cells": [
  {
   "cell_type": "code",
   "execution_count": null,
   "id": "43192e61",
   "metadata": {},
   "outputs": [],
   "source": [
    "using Pkg\n",
    "Pkg.activate(\".\")\n",
    "using SymPy"
   ]
  },
  {
   "cell_type": "markdown",
   "id": "29fc4f1e",
   "metadata": {},
   "source": [
    "# Afterclass wrap up\n",
    "The last example problem from class was based on Greenwood P6-9, with some modifications to be a 2-dof problem.\n",
    "\n",
    "The work here is just on the part of the problem that we got through during class"
   ]
  },
  {
   "cell_type": "code",
   "execution_count": null,
   "id": "d06e5738",
   "metadata": {},
   "outputs": [],
   "source": [
    "g, l, m, J, r, t = symbols(\"g l m J r t\", real=true, positive=true)\n",
    "ϕ = SymFunction(\"phi\", real=true)(t)\n",
    "θ = SymFunction(\"theta\", real=true)(t)\n",
    "p1 = SymFunction(\"p_1\", real=true)(t)\n",
    "p2 = SymFunction(\"p_2\", real=true)(t)\n",
    "\n",
    "ihat = [1, 0, 0]\n",
    "jhat = [0, 1, 0]\n",
    "khat = [0, 0, 1]\n",
    "Dot(a, b) = sum(a .* b);"
   ]
  },
  {
   "cell_type": "code",
   "execution_count": null,
   "id": "c8b748b0",
   "metadata": {},
   "outputs": [],
   "source": [
    "R = r*(sin(ϕ)*ihat - cos(ϕ)*jhat) + l*(sin(θ)*ihat - cos(θ)*jhat)"
   ]
  },
  {
   "cell_type": "code",
   "execution_count": null,
   "id": "544109aa",
   "metadata": {},
   "outputs": [],
   "source": [
    "V = -m*g*Dot(R,jhat)"
   ]
  },
  {
   "cell_type": "code",
   "execution_count": null,
   "id": "de6f368c",
   "metadata": {},
   "outputs": [],
   "source": [
    "T = 1//2*J*diff(ϕ,t)^2 + 1//2*m*Dot(diff.(R,t),diff.(R,t)) |> simplify"
   ]
  },
  {
   "cell_type": "code",
   "execution_count": null,
   "id": "6eccf189",
   "metadata": {},
   "outputs": [],
   "source": [
    "L = T-V"
   ]
  },
  {
   "cell_type": "code",
   "execution_count": null,
   "id": "01cecd8f",
   "metadata": {},
   "outputs": [],
   "source": [
    "eq1 = -p1 + diff(L, diff(ϕ,t)) |> simplify"
   ]
  },
  {
   "cell_type": "code",
   "execution_count": null,
   "id": "81820f23",
   "metadata": {},
   "outputs": [],
   "source": [
    "eq2 = -p2 + diff(L, diff(θ, t)) |> simplify"
   ]
  },
  {
   "cell_type": "code",
   "execution_count": null,
   "id": "b54b9644",
   "metadata": {},
   "outputs": [],
   "source": [
    "sol_p = solve([eq1, eq2], [diff(ϕ,t), diff(θ,t)])"
   ]
  },
  {
   "cell_type": "code",
   "execution_count": null,
   "id": "beffeadc",
   "metadata": {},
   "outputs": [],
   "source": []
  }
 ],
 "metadata": {
  "kernelspec": {
   "display_name": "Julia 1.11.7",
   "language": "julia",
   "name": "julia-1.11"
  },
  "language_info": {
   "file_extension": ".jl",
   "mimetype": "application/julia",
   "name": "julia",
   "version": "1.11.7"
  }
 },
 "nbformat": 4,
 "nbformat_minor": 5
}
