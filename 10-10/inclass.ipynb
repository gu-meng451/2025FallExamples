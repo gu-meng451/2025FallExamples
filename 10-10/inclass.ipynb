{
 "cells": [
  {
   "cell_type": "code",
   "execution_count": 1,
   "id": "43192e61",
   "metadata": {},
   "outputs": [
    {
     "name": "stderr",
     "output_type": "stream",
     "text": [
      "\u001b[32m\u001b[1m  Activating\u001b[22m\u001b[39m project at `c:\\Users\\tim\\Documents\\2025FallExamples\\10-10`\n"
     ]
    }
   ],
   "source": [
    "using Pkg\n",
    "Pkg.activate(\".\")\n",
    "using SymPy"
   ]
  },
  {
   "cell_type": "markdown",
   "id": "29fc4f1e",
   "metadata": {},
   "source": [
    "# Afterclass wrap up\n",
    "The last example problem from class was based on Greenwood P6-9, with some modifications to be a 2-dof problem.\n",
    "\n",
    "The work here is just on the part of the problem that we got through during class"
   ]
  },
  {
   "cell_type": "code",
   "execution_count": 2,
   "id": "d06e5738",
   "metadata": {},
   "outputs": [],
   "source": [
    "g, l, m, J, r, t = symbols(\"g l m J r t\", real=true, positive=true)\n",
    "ϕ = SymFunction(\"phi\", real=true)(t)\n",
    "θ = SymFunction(\"theta\", real=true)(t)\n",
    "p1 = SymFunction(\"p_1\", real=true)(t)\n",
    "p2 = SymFunction(\"p_2\", real=true)(t)\n",
    "\n",
    "ihat = [1, 0, 0]\n",
    "jhat = [0, 1, 0]\n",
    "khat = [0, 0, 1]\n",
    "Dot(a, b) = sum(a .* b);"
   ]
  },
  {
   "cell_type": "code",
   "execution_count": 3,
   "id": "c8b748b0",
   "metadata": {},
   "outputs": [
    {
     "data": {
      "text/latex": [
       "$\\left[\\begin{smallmatrix}l \\sin{\\left(\\theta{\\left(t \\right)} \\right)} + r \\sin{\\left(\\phi{\\left(t \\right)} \\right)}\\\\- l \\cos{\\left(\\theta{\\left(t \\right)} \\right)} - r \\cos{\\left(\\phi{\\left(t \\right)} \\right)}\\\\0\\end{smallmatrix}\\right]$"
      ],
      "text/plain": [
       "3-element Vector{Sym{PyCall.PyObject}}:\n",
       "  l*sin(theta(t)) + r*sin(phi(t))\n",
       " -l*cos(theta(t)) - r*cos(phi(t))\n",
       "                                0"
      ]
     },
     "metadata": {},
     "output_type": "display_data"
    }
   ],
   "source": [
    "R = r*(sin(ϕ)*ihat - cos(ϕ)*jhat) + l*(sin(θ)*ihat - cos(θ)*jhat)"
   ]
  },
  {
   "cell_type": "code",
   "execution_count": 4,
   "id": "544109aa",
   "metadata": {},
   "outputs": [
    {
     "data": {
      "text/latex": [
       "$- g m \\left(- l \\cos{\\left(\\theta{\\left(t \\right)} \\right)} - r \\cos{\\left(\\phi{\\left(t \\right)} \\right)}\\right)$"
      ],
      "text/plain": [
       "-g*m*(-l*cos(theta(t)) - r*cos(phi(t)))"
      ]
     },
     "metadata": {},
     "output_type": "display_data"
    }
   ],
   "source": [
    "V = -m*g*Dot(R,jhat)"
   ]
  },
  {
   "cell_type": "code",
   "execution_count": 5,
   "id": "de6f368c",
   "metadata": {},
   "outputs": [
    {
     "data": {
      "text/latex": [
       "$\\frac{J \\left(\\frac{d}{d t} \\phi{\\left(t \\right)}\\right)^{2}}{2} + \\frac{m \\left(l^{2} \\left(\\frac{d}{d t} \\theta{\\left(t \\right)}\\right)^{2} + 2 l r \\cos{\\left(\\phi{\\left(t \\right)} - \\theta{\\left(t \\right)} \\right)} \\frac{d}{d t} \\phi{\\left(t \\right)} \\frac{d}{d t} \\theta{\\left(t \\right)} + r^{2} \\left(\\frac{d}{d t} \\phi{\\left(t \\right)}\\right)^{2}\\right)}{2}$"
      ],
      "text/plain": [
       "              2     /                 2                                        >\n",
       "  /d         \\      | 2 /d           \\                                 d       >\n",
       "J*|--(phi(t))|    m*|l *|--(theta(t))|  + 2*l*r*cos(phi(t) - theta(t))*--(phi( >\n",
       "  \\dt        /      \\   \\dt          /                                 dt      >\n",
       "--------------- + ------------------------------------------------------------ >\n",
       "       2                                                         2             >\n",
       "\n",
       ">                                   2\\\n",
       ">     d               2 /d         \\ |\n",
       "> t))*--(theta(t)) + r *|--(phi(t))| |\n",
       ">     dt                \\dt        / /\n",
       "> ------------------------------------\n",
       ">                                     "
      ]
     },
     "metadata": {},
     "output_type": "display_data"
    }
   ],
   "source": [
    "T = 1//2*J*diff(ϕ,t)^2 + 1//2*m*Dot(diff.(R,t),diff.(R,t)) |> simplify"
   ]
  },
  {
   "cell_type": "code",
   "execution_count": 6,
   "id": "6eccf189",
   "metadata": {},
   "outputs": [
    {
     "data": {
      "text/latex": [
       "$\\frac{J \\left(\\frac{d}{d t} \\phi{\\left(t \\right)}\\right)^{2}}{2} + g m \\left(- l \\cos{\\left(\\theta{\\left(t \\right)} \\right)} - r \\cos{\\left(\\phi{\\left(t \\right)} \\right)}\\right) + \\frac{m \\left(l^{2} \\left(\\frac{d}{d t} \\theta{\\left(t \\right)}\\right)^{2} + 2 l r \\cos{\\left(\\phi{\\left(t \\right)} - \\theta{\\left(t \\right)} \\right)} \\frac{d}{d t} \\phi{\\left(t \\right)} \\frac{d}{d t} \\theta{\\left(t \\right)} + r^{2} \\left(\\frac{d}{d t} \\phi{\\left(t \\right)}\\right)^{2}\\right)}{2}$"
      ],
      "text/plain": [
       "              2                                              /                 >\n",
       "  /d         \\                                               | 2 /d            >\n",
       "J*|--(phi(t))|                                             m*|l *|--(theta(t)) >\n",
       "  \\dt        /                                               \\   \\dt           >\n",
       "--------------- + g*m*(-l*cos(theta(t)) - r*cos(phi(t))) + ------------------- >\n",
       "       2                                                                       >\n",
       "\n",
       ">  2                                                                         2 >\n",
       "> \\                                 d          d               2 /d         \\  >\n",
       "> |  + 2*l*r*cos(phi(t) - theta(t))*--(phi(t))*--(theta(t)) + r *|--(phi(t))|  >\n",
       "> /                                 dt         dt                \\dt        /  >\n",
       "> ---------------------------------------------------------------------------- >\n",
       ">                             2                                                >\n",
       "\n",
       "> \\\n",
       "> |\n",
       "> |\n",
       "> /\n",
       "> -\n",
       ">  "
      ]
     },
     "metadata": {},
     "output_type": "display_data"
    }
   ],
   "source": [
    "L = T-V"
   ]
  },
  {
   "cell_type": "code",
   "execution_count": 7,
   "id": "01cecd8f",
   "metadata": {},
   "outputs": [
    {
     "data": {
      "text/latex": [
       "$J \\frac{d}{d t} \\phi{\\left(t \\right)} + m r \\left(l \\cos{\\left(\\phi{\\left(t \\right)} - \\theta{\\left(t \\right)} \\right)} \\frac{d}{d t} \\theta{\\left(t \\right)} + r \\frac{d}{d t} \\phi{\\left(t \\right)}\\right) - p_{1}{\\left(t \\right)}$"
      ],
      "text/plain": [
       "  d                /                         d                d         \\      >\n",
       "J*--(phi(t)) + m*r*|l*cos(phi(t) - theta(t))*--(theta(t)) + r*--(phi(t))| - p_ >\n",
       "  dt               \\                         dt               dt        /      >\n",
       "\n",
       ">     \n",
       "> 1(t)\n",
       ">     "
      ]
     },
     "metadata": {},
     "output_type": "display_data"
    }
   ],
   "source": [
    "eq1 = -p1 + diff(L, diff(ϕ,t)) |> simplify"
   ]
  },
  {
   "cell_type": "code",
   "execution_count": 8,
   "id": "81820f23",
   "metadata": {},
   "outputs": [
    {
     "data": {
      "text/latex": [
       "$l m \\left(l \\frac{d}{d t} \\theta{\\left(t \\right)} + r \\cos{\\left(\\phi{\\left(t \\right)} - \\theta{\\left(t \\right)} \\right)} \\frac{d}{d t} \\phi{\\left(t \\right)}\\right) - p_{2}{\\left(t \\right)}$"
      ],
      "text/plain": [
       "    /  d                                       d         \\         \n",
       "l*m*|l*--(theta(t)) + r*cos(phi(t) - theta(t))*--(phi(t))| - p_2(t)\n",
       "    \\  dt                                      dt        /         "
      ]
     },
     "metadata": {},
     "output_type": "display_data"
    }
   ],
   "source": [
    "eq2 = -p2 + diff(L, diff(θ, t)) |> simplify"
   ]
  },
  {
   "cell_type": "code",
   "execution_count": 9,
   "id": "b54b9644",
   "metadata": {},
   "outputs": [
    {
     "data": {
      "text/latex": [
       "\\begin{equation*}\\begin{cases}\\frac{d}{d t} \\phi{\\left(t \\right)} & \\text{=>} &- \\frac{l p_{1}{\\left(t \\right)}}{- J l + l m r^{2} \\cos^{2}{\\left(\\phi{\\left(t \\right)} - \\theta{\\left(t \\right)} \\right)} - l m r^{2}} + \\frac{r p_{2}{\\left(t \\right)} \\cos{\\left(\\phi{\\left(t \\right)} - \\theta{\\left(t \\right)} \\right)}}{- J l + l m r^{2} \\cos^{2}{\\left(\\phi{\\left(t \\right)} - \\theta{\\left(t \\right)} \\right)} - l m r^{2}}\\\\\\frac{d}{d t} \\theta{\\left(t \\right)} & \\text{=>} &- \\frac{J p_{2}{\\left(t \\right)}}{- J l^{2} m + l^{2} m^{2} r^{2} \\cos^{2}{\\left(\\phi{\\left(t \\right)} - \\theta{\\left(t \\right)} \\right)} - l^{2} m^{2} r^{2}} + \\frac{l m r p_{1}{\\left(t \\right)} \\cos{\\left(\\phi{\\left(t \\right)} - \\theta{\\left(t \\right)} \\right)}}{- J l^{2} m + l^{2} m^{2} r^{2} \\cos^{2}{\\left(\\phi{\\left(t \\right)} - \\theta{\\left(t \\right)} \\right)} - l^{2} m^{2} r^{2}} - \\frac{m r^{2} p_{2}{\\left(t \\right)}}{- J l^{2} m + l^{2} m^{2} r^{2} \\cos^{2}{\\left(\\phi{\\left(t \\right)} - \\theta{\\left(t \\right)} \\right)} - l^{2} m^{2} r^{2}}\\\\\\end{cases}\\end{equation*}"
      ],
      "text/plain": [
       "Dict{Sym{PyCall.PyObject}, Sym{PyCall.PyObject}} with 2 entries:\n",
       "  Derivative(phi(t), t)   => -l*p_1(t)/(-J*l + l*m*r^2*cos(phi(t) - theta(t))^2…\n",
       "  Derivative(theta(t), t) => -J*p_2(t)/(-J*l^2*m + l^2*m^2*r^2*cos(phi(t) - the…"
      ]
     },
     "metadata": {},
     "output_type": "display_data"
    }
   ],
   "source": [
    "sol_p = solve([eq1, eq2], [diff(ϕ,t), diff(θ,t)])"
   ]
  },
  {
   "cell_type": "markdown",
   "id": "9486a83f",
   "metadata": {},
   "source": [
    "## continuing on"
   ]
  },
  {
   "cell_type": "code",
   "execution_count": 14,
   "id": "d09bb7db",
   "metadata": {},
   "outputs": [
    {
     "data": {
      "text/latex": [
       "$\\frac{- J g l^{3} m^{2} \\cos{\\left(\\theta{\\left(t \\right)} \\right)} - J g l^{2} m^{2} r \\cos{\\left(\\phi{\\left(t \\right)} \\right)} - \\frac{J p_{2}^{2}{\\left(t \\right)}}{2} + g l^{3} m^{3} r^{2} \\cos^{2}{\\left(\\phi{\\left(t \\right)} - \\theta{\\left(t \\right)} \\right)} \\cos{\\left(\\theta{\\left(t \\right)} \\right)} - g l^{3} m^{3} r^{2} \\cos{\\left(\\theta{\\left(t \\right)} \\right)} + g l^{2} m^{3} r^{3} \\cos^{2}{\\left(\\phi{\\left(t \\right)} - \\theta{\\left(t \\right)} \\right)} \\cos{\\left(\\phi{\\left(t \\right)} \\right)} - g l^{2} m^{3} r^{3} \\cos{\\left(\\phi{\\left(t \\right)} \\right)} - \\frac{l^{2} m p_{1}^{2}{\\left(t \\right)}}{2} + l m r p_{1}{\\left(t \\right)} p_{2}{\\left(t \\right)} \\cos{\\left(\\phi{\\left(t \\right)} - \\theta{\\left(t \\right)} \\right)} - \\frac{m r^{2} p_{2}^{2}{\\left(t \\right)}}{2}}{l^{2} m \\left(- J + m r^{2} \\cos^{2}{\\left(\\phi{\\left(t \\right)} - \\theta{\\left(t \\right)} \\right)} - m r^{2}\\right)}$"
      ],
      "text/plain": [
       "                                                           2                   >\n",
       "       3  2                      2  2                 J*p_2 (t)      3  3  2   >\n",
       "- J*g*l *m *cos(theta(t)) - J*g*l *m *r*cos(phi(t)) - --------- + g*l *m *r *c >\n",
       "                                                          2                    >\n",
       "------------------------------------------------------------------------------ >\n",
       "                                                                               >\n",
       "                                                                               >\n",
       "\n",
       ">                                                                              >\n",
       ">   2                                       3  3  2                    2  3  3 >\n",
       "> os (phi(t) - theta(t))*cos(theta(t)) - g*l *m *r *cos(theta(t)) + g*l *m *r  >\n",
       ">                                                                              >\n",
       "> ---------------------------------------------------------------------------- >\n",
       ">                                             2   /        2    2              >\n",
       ">                                            l *m*\\-J + m*r *cos (phi(t) - the >\n",
       "\n",
       ">                                                                  2      2    >\n",
       ">     2                                     2  3  3               l *m*p_1 (t) >\n",
       "> *cos (phi(t) - theta(t))*cos(phi(t)) - g*l *m *r *cos(phi(t)) - ------------ >\n",
       ">                                                                      2       >\n",
       "> ---------------------------------------------------------------------------- >\n",
       ">             2\\                                                               >\n",
       "> ta(t)) - m*r /                                                               >\n",
       "\n",
       ">                                                    2    2   \n",
       ">                                                 m*r *p_2 (t)\n",
       ">  + l*m*r*p_1(t)*p_2(t)*cos(phi(t) - theta(t)) - ------------\n",
       ">                                                      2      \n",
       "> ------------------------------------------------------------\n",
       ">                                                             \n",
       ">                                                             "
      ]
     },
     "metadata": {},
     "output_type": "display_data"
    }
   ],
   "source": [
    "H = subs(T + V, sol_p) |> simplify"
   ]
  },
  {
   "cell_type": "code",
   "execution_count": 16,
   "id": "beffeadc",
   "metadata": {},
   "outputs": [
    {
     "data": {
      "text/latex": [
       "$\\left[\\begin{smallmatrix}\\frac{r \\left(J^{2} g l^{2} m \\sin{\\left(\\phi{\\left(t \\right)} \\right)} - 2 J g l^{2} m^{2} r^{2} \\sin{\\left(\\phi{\\left(t \\right)} \\right)} \\cos^{2}{\\left(\\phi{\\left(t \\right)} - \\theta{\\left(t \\right)} \\right)} + 2 J g l^{2} m^{2} r^{2} \\sin{\\left(\\phi{\\left(t \\right)} \\right)} - J l p_{1}{\\left(t \\right)} p_{2}{\\left(t \\right)} \\sin{\\left(\\phi{\\left(t \\right)} - \\theta{\\left(t \\right)} \\right)} + \\frac{J r p_{2}^{2}{\\left(t \\right)} \\sin{\\left(2 \\phi{\\left(t \\right)} - 2 \\theta{\\left(t \\right)} \\right)}}{2} + g l^{2} m^{3} r^{4} \\sin{\\left(\\phi{\\left(t \\right)} \\right)} \\cos^{4}{\\left(\\phi{\\left(t \\right)} - \\theta{\\left(t \\right)} \\right)} - 2 g l^{2} m^{3} r^{4} \\sin{\\left(\\phi{\\left(t \\right)} \\right)} \\cos^{2}{\\left(\\phi{\\left(t \\right)} - \\theta{\\left(t \\right)} \\right)} + g l^{2} m^{3} r^{4} \\sin{\\left(\\phi{\\left(t \\right)} \\right)} + \\frac{l^{2} m r p_{1}^{2}{\\left(t \\right)} \\sin{\\left(2 \\phi{\\left(t \\right)} - 2 \\theta{\\left(t \\right)} \\right)}}{2} - l m r^{2} p_{1}{\\left(t \\right)} p_{2}{\\left(t \\right)} \\sin{\\left(\\phi{\\left(t \\right)} - \\theta{\\left(t \\right)} \\right)} \\cos^{2}{\\left(\\phi{\\left(t \\right)} - \\theta{\\left(t \\right)} \\right)} - l m r^{2} p_{1}{\\left(t \\right)} p_{2}{\\left(t \\right)} \\sin{\\left(\\phi{\\left(t \\right)} - \\theta{\\left(t \\right)} \\right)} + \\frac{m r^{3} p_{2}^{2}{\\left(t \\right)} \\sin{\\left(2 \\phi{\\left(t \\right)} - 2 \\theta{\\left(t \\right)} \\right)}}{2}\\right)}{l^{2} \\left(J^{2} - 2 J m r^{2} \\cos^{2}{\\left(\\phi{\\left(t \\right)} - \\theta{\\left(t \\right)} \\right)} + 2 J m r^{2} + m^{2} r^{4} \\cos^{4}{\\left(\\phi{\\left(t \\right)} - \\theta{\\left(t \\right)} \\right)} - 2 m^{2} r^{4} \\cos^{2}{\\left(\\phi{\\left(t \\right)} - \\theta{\\left(t \\right)} \\right)} + m^{2} r^{4}\\right)}\\\\\\frac{J^{2} g l^{3} m \\sin{\\left(\\theta{\\left(t \\right)} \\right)} - 2 J g l^{3} m^{2} r^{2} \\sin{\\left(\\theta{\\left(t \\right)} \\right)} \\cos^{2}{\\left(\\phi{\\left(t \\right)} - \\theta{\\left(t \\right)} \\right)} + 2 J g l^{3} m^{2} r^{2} \\sin{\\left(\\theta{\\left(t \\right)} \\right)} + J l r p_{1}{\\left(t \\right)} p_{2}{\\left(t \\right)} \\sin{\\left(\\phi{\\left(t \\right)} - \\theta{\\left(t \\right)} \\right)} - \\frac{J r^{2} p_{2}^{2}{\\left(t \\right)} \\sin{\\left(2 \\phi{\\left(t \\right)} - 2 \\theta{\\left(t \\right)} \\right)}}{2} + g l^{3} m^{3} r^{4} \\sin{\\left(\\theta{\\left(t \\right)} \\right)} \\cos^{4}{\\left(\\phi{\\left(t \\right)} - \\theta{\\left(t \\right)} \\right)} - 2 g l^{3} m^{3} r^{4} \\sin{\\left(\\theta{\\left(t \\right)} \\right)} \\cos^{2}{\\left(\\phi{\\left(t \\right)} - \\theta{\\left(t \\right)} \\right)} + g l^{3} m^{3} r^{4} \\sin{\\left(\\theta{\\left(t \\right)} \\right)} - \\frac{l^{2} m r^{2} p_{1}^{2}{\\left(t \\right)} \\sin{\\left(2 \\phi{\\left(t \\right)} - 2 \\theta{\\left(t \\right)} \\right)}}{2} + l m r^{3} p_{1}{\\left(t \\right)} p_{2}{\\left(t \\right)} \\sin{\\left(\\phi{\\left(t \\right)} - \\theta{\\left(t \\right)} \\right)} \\cos^{2}{\\left(\\phi{\\left(t \\right)} - \\theta{\\left(t \\right)} \\right)} + l m r^{3} p_{1}{\\left(t \\right)} p_{2}{\\left(t \\right)} \\sin{\\left(\\phi{\\left(t \\right)} - \\theta{\\left(t \\right)} \\right)} - \\frac{m r^{4} p_{2}^{2}{\\left(t \\right)} \\sin{\\left(2 \\phi{\\left(t \\right)} - 2 \\theta{\\left(t \\right)} \\right)}}{2}}{l^{2} \\left(J^{2} - 2 J m r^{2} \\cos^{2}{\\left(\\phi{\\left(t \\right)} - \\theta{\\left(t \\right)} \\right)} + 2 J m r^{2} + m^{2} r^{4} \\cos^{4}{\\left(\\phi{\\left(t \\right)} - \\theta{\\left(t \\right)} \\right)} - 2 m^{2} r^{4} \\cos^{2}{\\left(\\phi{\\left(t \\right)} - \\theta{\\left(t \\right)} \\right)} + m^{2} r^{4}\\right)}\\end{smallmatrix}\\right]$"
      ],
      "text/plain": [
       "2-element Vector{Sym{PyCall.PyObject}}:\n",
       "                 r*(J^2*g*l^2*m*sin(phi(t)) - 2*J*g*l^2*m^2*r^2*sin(phi(t))*cos(phi(t) - theta(t))^2 + 2*J*g*l^2*m^2*r^2*sin(phi(t)) - J*l*p_1(t)*p_2(t)*sin(phi(t) - theta(t)) + J*r*p_2(t)^2*sin(2*phi(t) - 2*theta(t))/2 + g*l^2*m^3*r^4*sin(phi(t))*cos(phi(t) - theta(t))^4 - 2*g*l^2*m^3*r^4*sin(phi(t))*cos(phi(t) - theta(t))^2 + g*l^2*m^3*r^4*sin(phi(t)) + l^2*m*r*p_1(t)^2*sin(2*phi(t) - 2*theta(t))/2 - l*m*r^2*p_1(t)*p_2(t)*sin(phi(t) - theta(t))*cos(phi(t) - theta(t))^2 - l*m*r^2*p_1(t)*p_2(t)*sin(phi(t) - theta(t)) + m*r^3*p_2(t)^2*sin(2*phi(t) - 2*theta(t))/2)/(l^2*(J^2 - 2*J*m*r^2*cos(phi(t) - theta(t))^2 + 2*J*m*r^2 + m^2*r^4*cos(phi(t) - theta(t))^4 - 2*m^2*r^4*cos(phi(t) - theta(t))^2 + m^2*r^4))\n",
       " (J^2*g*l^3*m*sin(theta(t)) - 2*J*g*l^3*m^2*r^2*sin(theta(t))*cos(phi(t) - theta(t))^2 + 2*J*g*l^3*m^2*r^2*sin(theta(t)) + J*l*r*p_1(t)*p_2(t)*sin(phi(t) - theta(t)) - J*r^2*p_2(t)^2*sin(2*phi(t) - 2*theta(t))/2 + g*l^3*m^3*r^4*sin(theta(t))*cos(phi(t) - theta(t))^4 - 2*g*l^3*m^3*r^4*sin(theta(t))*cos(phi(t) - theta(t))^2 + g*l^3*m^3*r^4*sin(theta(t)) - l^2*m*r^2*p_1(t)^2*sin(2*phi(t) - 2*theta(t))/2 + l*m*r^3*p_1(t)*p_2(t)*sin(phi(t) - theta(t))*cos(phi(t) - theta(t))^2 + l*m*r^3*p_1(t)*p_2(t)*sin(phi(t) - theta(t)) - m*r^4*p_2(t)^2*sin(2*phi(t) - 2*theta(t))/2)/(l^2*(J^2 - 2*J*m*r^2*cos(phi(t) - theta(t))^2 + 2*J*m*r^2 + m^2*r^4*cos(phi(t) - theta(t))^4 - 2*m^2*r^4*cos(phi(t) - theta(t))^2 + m^2*r^4))"
      ]
     },
     "metadata": {},
     "output_type": "display_data"
    }
   ],
   "source": [
    "pdot = [-diff(H,q) |> simplify for q in [ϕ,θ]]"
   ]
  },
  {
   "cell_type": "code",
   "execution_count": 17,
   "id": "a2a7d598",
   "metadata": {},
   "outputs": [
    {
     "data": {
      "text/latex": [
       "$\\left[\\begin{smallmatrix}\\frac{l p_{1}{\\left(t \\right)} - r p_{2}{\\left(t \\right)} \\cos{\\left(\\phi{\\left(t \\right)} - \\theta{\\left(t \\right)} \\right)}}{l \\left(J - m r^{2} \\cos^{2}{\\left(\\phi{\\left(t \\right)} - \\theta{\\left(t \\right)} \\right)} + m r^{2}\\right)}\\\\\\frac{J p_{2}{\\left(t \\right)} - l m r p_{1}{\\left(t \\right)} \\cos{\\left(\\phi{\\left(t \\right)} - \\theta{\\left(t \\right)} \\right)} + m r^{2} p_{2}{\\left(t \\right)}}{l^{2} m \\left(J - m r^{2} \\cos^{2}{\\left(\\phi{\\left(t \\right)} - \\theta{\\left(t \\right)} \\right)} + m r^{2}\\right)}\\end{smallmatrix}\\right]$"
      ],
      "text/plain": [
       "2-element Vector{Sym{PyCall.PyObject}}:\n",
       "                        (l*p_1(t) - r*p_2(t)*cos(phi(t) - theta(t)))/(l*(J - m*r^2*cos(phi(t) - theta(t))^2 + m*r^2))\n",
       " (J*p_2(t) - l*m*r*p_1(t)*cos(phi(t) - theta(t)) + m*r^2*p_2(t))/(l^2*m*(J - m*r^2*cos(phi(t) - theta(t))^2 + m*r^2))"
      ]
     },
     "metadata": {},
     "output_type": "display_data"
    }
   ],
   "source": [
    "qdot = [ +diff(H,p) |> simplify for p in [p1,p2] ]"
   ]
  },
  {
   "cell_type": "code",
   "execution_count": null,
   "id": "69766f6e",
   "metadata": {},
   "outputs": [],
   "source": []
  }
 ],
 "metadata": {
  "kernelspec": {
   "display_name": "Julia 1.11.7",
   "language": "julia",
   "name": "julia-1.11"
  },
  "language_info": {
   "file_extension": ".jl",
   "mimetype": "application/julia",
   "name": "julia",
   "version": "1.11.7"
  }
 },
 "nbformat": 4,
 "nbformat_minor": 5
}
