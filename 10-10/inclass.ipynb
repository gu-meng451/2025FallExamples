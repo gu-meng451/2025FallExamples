{
 "cells": [
  {
   "cell_type": "code",
   "execution_count": 1,
   "id": "43192e61",
   "metadata": {},
   "outputs": [
    {
     "name": "stderr",
     "output_type": "stream",
     "text": [
      "\u001b[32m\u001b[1m  Activating\u001b[22m\u001b[39m project at `c:\\Users\\tim\\Documents\\2025FallExamples\\10-10`\n"
     ]
    }
   ],
   "source": [
    "using Pkg\n",
    "Pkg.activate(\".\")\n",
    "using SymPy"
   ]
  },
  {
   "cell_type": "markdown",
   "id": "29fc4f1e",
   "metadata": {},
   "source": [
    "# Afterclass wrap up\n",
    "The last example problem from class was based on Greenwood P6-9, with some modifications to be a 2-dof problem.\n",
    "\n",
    "The work here is just on the part of the problem that we got through during class"
   ]
  },
  {
   "cell_type": "code",
   "execution_count": 2,
   "id": "d06e5738",
   "metadata": {},
   "outputs": [],
   "source": [
    "g, l, m, J, r, t = symbols(\"g l m J r t\", real=true, positive=true)\n",
    "ϕ = SymFunction(\"phi\", real=true)(t)\n",
    "θ = SymFunction(\"theta\", real=true)(t)\n",
    "p1 = SymFunction(\"p_1\", real=true)(t)\n",
    "p2 = SymFunction(\"p_2\", real=true)(t)\n",
    "\n",
    "ihat = [1, 0, 0]\n",
    "jhat = [0, 1, 0]\n",
    "khat = [0, 0, 1]\n",
    "Dot(a, b) = sum(a .* b);"
   ]
  },
  {
   "cell_type": "code",
   "execution_count": 3,
   "id": "c8b748b0",
   "metadata": {},
   "outputs": [
    {
     "data": {
      "text/latex": [
       "$\\left[\\begin{smallmatrix}l \\sin{\\left(\\theta{\\left(t \\right)} \\right)} + r \\sin{\\left(\\phi{\\left(t \\right)} \\right)}\\\\- l \\cos{\\left(\\theta{\\left(t \\right)} \\right)} - r \\cos{\\left(\\phi{\\left(t \\right)} \\right)}\\\\0\\end{smallmatrix}\\right]$"
      ],
      "text/plain": [
       "3-element Vector{Sym{PyCall.PyObject}}:\n",
       "  l*sin(theta(t)) + r*sin(phi(t))\n",
       " -l*cos(theta(t)) - r*cos(phi(t))\n",
       "                                0"
      ]
     },
     "metadata": {},
     "output_type": "display_data"
    }
   ],
   "source": [
    "R = r*(sin(ϕ)*ihat - cos(ϕ)*jhat) + l*(sin(θ)*ihat - cos(θ)*jhat)"
   ]
  },
  {
   "cell_type": "code",
   "execution_count": 4,
   "id": "544109aa",
   "metadata": {},
   "outputs": [
    {
     "data": {
      "text/latex": [
       "$- g m \\left(- l \\cos{\\left(\\theta{\\left(t \\right)} \\right)} - r \\cos{\\left(\\phi{\\left(t \\right)} \\right)}\\right)$"
      ],
      "text/plain": [
       "-g*m*(-l*cos(theta(t)) - r*cos(phi(t)))"
      ]
     },
     "metadata": {},
     "output_type": "display_data"
    }
   ],
   "source": [
    "V = -m*g*Dot(R,jhat)"
   ]
  },
  {
   "cell_type": "code",
   "execution_count": 5,
   "id": "de6f368c",
   "metadata": {},
   "outputs": [
    {
     "data": {
      "text/latex": [
       "$\\frac{J \\left(\\frac{d}{d t} \\phi{\\left(t \\right)}\\right)^{2}}{2} + \\frac{m \\left(l^{2} \\left(\\frac{d}{d t} \\theta{\\left(t \\right)}\\right)^{2} + 2 l r \\cos{\\left(\\phi{\\left(t \\right)} - \\theta{\\left(t \\right)} \\right)} \\frac{d}{d t} \\phi{\\left(t \\right)} \\frac{d}{d t} \\theta{\\left(t \\right)} + r^{2} \\left(\\frac{d}{d t} \\phi{\\left(t \\right)}\\right)^{2}\\right)}{2}$"
      ],
      "text/plain": [
       "              2     /                 2                                        >\n",
       "  /d         \\      | 2 /d           \\                                 d       >\n",
       "J*|--(phi(t))|    m*|l *|--(theta(t))|  + 2*l*r*cos(phi(t) - theta(t))*--(phi( >\n",
       "  \\dt        /      \\   \\dt          /                                 dt      >\n",
       "--------------- + ------------------------------------------------------------ >\n",
       "       2                                                         2             >\n",
       "\n",
       ">                                   2\\\n",
       ">     d               2 /d         \\ |\n",
       "> t))*--(theta(t)) + r *|--(phi(t))| |\n",
       ">     dt                \\dt        / /\n",
       "> ------------------------------------\n",
       ">                                     "
      ]
     },
     "metadata": {},
     "output_type": "display_data"
    }
   ],
   "source": [
    "T = 1//2*J*diff(ϕ,t)^2 + 1//2*m*Dot(diff.(R,t),diff.(R,t)) |> simplify"
   ]
  },
  {
   "cell_type": "code",
   "execution_count": 6,
   "id": "6eccf189",
   "metadata": {},
   "outputs": [
    {
     "data": {
      "text/latex": [
       "$\\frac{J \\left(\\frac{d}{d t} \\phi{\\left(t \\right)}\\right)^{2}}{2} + g m \\left(- l \\cos{\\left(\\theta{\\left(t \\right)} \\right)} - r \\cos{\\left(\\phi{\\left(t \\right)} \\right)}\\right) + \\frac{m \\left(l^{2} \\left(\\frac{d}{d t} \\theta{\\left(t \\right)}\\right)^{2} + 2 l r \\cos{\\left(\\phi{\\left(t \\right)} - \\theta{\\left(t \\right)} \\right)} \\frac{d}{d t} \\phi{\\left(t \\right)} \\frac{d}{d t} \\theta{\\left(t \\right)} + r^{2} \\left(\\frac{d}{d t} \\phi{\\left(t \\right)}\\right)^{2}\\right)}{2}$"
      ],
      "text/plain": [
       "              2                                              /                 >\n",
       "  /d         \\                                               | 2 /d            >\n",
       "J*|--(phi(t))|                                             m*|l *|--(theta(t)) >\n",
       "  \\dt        /                                               \\   \\dt           >\n",
       "--------------- + g*m*(-l*cos(theta(t)) - r*cos(phi(t))) + ------------------- >\n",
       "       2                                                                       >\n",
       "\n",
       ">  2                                                                         2 >\n",
       "> \\                                 d          d               2 /d         \\  >\n",
       "> |  + 2*l*r*cos(phi(t) - theta(t))*--(phi(t))*--(theta(t)) + r *|--(phi(t))|  >\n",
       "> /                                 dt         dt                \\dt        /  >\n",
       "> ---------------------------------------------------------------------------- >\n",
       ">                             2                                                >\n",
       "\n",
       "> \\\n",
       "> |\n",
       "> |\n",
       "> /\n",
       "> -\n",
       ">  "
      ]
     },
     "metadata": {},
     "output_type": "display_data"
    }
   ],
   "source": [
    "L = T-V"
   ]
  },
  {
   "cell_type": "code",
   "execution_count": 7,
   "id": "01cecd8f",
   "metadata": {},
   "outputs": [
    {
     "data": {
      "text/latex": [
       "$J \\frac{d}{d t} \\phi{\\left(t \\right)} + m r \\left(l \\cos{\\left(\\phi{\\left(t \\right)} - \\theta{\\left(t \\right)} \\right)} \\frac{d}{d t} \\theta{\\left(t \\right)} + r \\frac{d}{d t} \\phi{\\left(t \\right)}\\right) - p_{1}{\\left(t \\right)}$"
      ],
      "text/plain": [
       "  d                /                         d                d         \\      >\n",
       "J*--(phi(t)) + m*r*|l*cos(phi(t) - theta(t))*--(theta(t)) + r*--(phi(t))| - p_ >\n",
       "  dt               \\                         dt               dt        /      >\n",
       "\n",
       ">     \n",
       "> 1(t)\n",
       ">     "
      ]
     },
     "metadata": {},
     "output_type": "display_data"
    }
   ],
   "source": [
    "eq1 = -p1 + diff(L, diff(ϕ,t)) |> simplify"
   ]
  },
  {
   "cell_type": "code",
   "execution_count": 8,
   "id": "81820f23",
   "metadata": {},
   "outputs": [
    {
     "data": {
      "text/latex": [
       "$l m \\left(l \\frac{d}{d t} \\theta{\\left(t \\right)} + r \\cos{\\left(\\phi{\\left(t \\right)} - \\theta{\\left(t \\right)} \\right)} \\frac{d}{d t} \\phi{\\left(t \\right)}\\right) - p_{2}{\\left(t \\right)}$"
      ],
      "text/plain": [
       "    /  d                                       d         \\         \n",
       "l*m*|l*--(theta(t)) + r*cos(phi(t) - theta(t))*--(phi(t))| - p_2(t)\n",
       "    \\  dt                                      dt        /         "
      ]
     },
     "metadata": {},
     "output_type": "display_data"
    }
   ],
   "source": [
    "eq2 = -p2 + diff(L, diff(θ, t)) |> simplify"
   ]
  },
  {
   "cell_type": "code",
   "execution_count": 9,
   "id": "b54b9644",
   "metadata": {},
   "outputs": [
    {
     "data": {
      "text/latex": [
       "\\begin{equation*}\\begin{cases}\\frac{d}{d t} \\phi{\\left(t \\right)} & \\text{=>} &- \\frac{l p_{1}{\\left(t \\right)}}{- J l + l m r^{2} \\cos^{2}{\\left(\\phi{\\left(t \\right)} - \\theta{\\left(t \\right)} \\right)} - l m r^{2}} + \\frac{r p_{2}{\\left(t \\right)} \\cos{\\left(\\phi{\\left(t \\right)} - \\theta{\\left(t \\right)} \\right)}}{- J l + l m r^{2} \\cos^{2}{\\left(\\phi{\\left(t \\right)} - \\theta{\\left(t \\right)} \\right)} - l m r^{2}}\\\\\\frac{d}{d t} \\theta{\\left(t \\right)} & \\text{=>} &- \\frac{J p_{2}{\\left(t \\right)}}{- J l^{2} m + l^{2} m^{2} r^{2} \\cos^{2}{\\left(\\phi{\\left(t \\right)} - \\theta{\\left(t \\right)} \\right)} - l^{2} m^{2} r^{2}} + \\frac{l m r p_{1}{\\left(t \\right)} \\cos{\\left(\\phi{\\left(t \\right)} - \\theta{\\left(t \\right)} \\right)}}{- J l^{2} m + l^{2} m^{2} r^{2} \\cos^{2}{\\left(\\phi{\\left(t \\right)} - \\theta{\\left(t \\right)} \\right)} - l^{2} m^{2} r^{2}} - \\frac{m r^{2} p_{2}{\\left(t \\right)}}{- J l^{2} m + l^{2} m^{2} r^{2} \\cos^{2}{\\left(\\phi{\\left(t \\right)} - \\theta{\\left(t \\right)} \\right)} - l^{2} m^{2} r^{2}}\\\\\\end{cases}\\end{equation*}"
      ],
      "text/plain": [
       "Dict{Sym{PyCall.PyObject}, Sym{PyCall.PyObject}} with 2 entries:\n",
       "  Derivative(phi(t), t)   => -l*p_1(t)/(-J*l + l*m*r^2*cos(phi(t) - theta(t))^2…\n",
       "  Derivative(theta(t), t) => -J*p_2(t)/(-J*l^2*m + l^2*m^2*r^2*cos(phi(t) - the…"
      ]
     },
     "metadata": {},
     "output_type": "display_data"
    }
   ],
   "source": [
    "sol_p = solve([eq1, eq2], [diff(ϕ,t), diff(θ,t)])"
   ]
  },
  {
   "cell_type": "code",
   "execution_count": 10,
   "id": "beffeadc",
   "metadata": {},
   "outputs": [],
   "source": []
  }
 ],
 "metadata": {
  "kernelspec": {
   "display_name": "Julia 1.11.7",
   "language": "julia",
   "name": "julia-1.11"
  },
  "language_info": {
   "file_extension": ".jl",
   "mimetype": "application/julia",
   "name": "julia",
   "version": "1.11.7"
  }
 },
 "nbformat": 4,
 "nbformat_minor": 5
}
