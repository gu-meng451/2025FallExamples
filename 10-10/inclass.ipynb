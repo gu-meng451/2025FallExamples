{
 "cells": [
  {
   "cell_type": "code",
   "execution_count": null,
   "id": "43192e61",
   "metadata": {},
   "outputs": [],
   "source": [
    "using Pkg\n",
    "Pkg.activate(\".\")\n",
    "using SymPy"
   ]
  },
  {
   "cell_type": "code",
   "execution_count": null,
   "id": "63458cdb",
   "metadata": {},
   "outputs": [],
   "source": []
  }
 ],
 "metadata": {
  "kernelspec": {
   "display_name": "Julia 1.11.7",
   "language": "julia",
   "name": "julia-1.11"
  },
  "language_info": {
   "file_extension": ".jl",
   "mimetype": "application/julia",
   "name": "julia",
   "version": "1.11.7"
  }
 },
 "nbformat": 4,
 "nbformat_minor": 5
}
