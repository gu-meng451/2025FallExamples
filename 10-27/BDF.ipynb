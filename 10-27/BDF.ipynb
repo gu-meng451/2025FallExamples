{
 "cells": [
  {
   "cell_type": "markdown",
   "metadata": {},
   "source": [
    "# Backward Differentiation Formula\n"
   ]
  },
  {
   "cell_type": "code",
   "execution_count": null,
   "metadata": {},
   "outputs": [],
   "source": [
    "using Pkg\n",
    "Pkg.activate(\".\")\n",
    "using SymPy"
   ]
  },
  {
   "cell_type": "markdown",
   "metadata": {},
   "source": [
    "Now let's make up some variables in a similar way to the Adams Methods"
   ]
  },
  {
   "cell_type": "code",
   "execution_count": null,
   "metadata": {},
   "outputs": [],
   "source": [
    "x1, x2, x3, x4, x5, x6, x7, x8 = symbols(\"x1, x2, x3, x4, x5, x6, x7, x8\")\n",
    "t1, t2, t3, t4, t5, t6, t7, t8 = symbols(\"t1, t2, t3, t4, t5, t6, t7, t8\")\n",
    "t = symbols(\"t\")\n",
    "X = [x1,x2,x3,x4,x5,x6,x7,x8]\n",
    "T = [t1,t2,t3,t4,t5,t6,t7,t8]\n",
    "f = symbols(\"f\")\n",
    "h = symbols(\"h\")\n",
    "\n",
    "function l(t,j,k)\n",
    "    l = 1\n",
    "    for m in 1:k\n",
    "        if m != j\n",
    "            l *= ( t - T[m] )/( T[j] - T[m] )\n",
    "        end        \n",
    "    end\n",
    "    return l\n",
    "end\n",
    ";"
   ]
  },
  {
   "cell_type": "markdown",
   "metadata": {},
   "source": [
    "This time we interpolate the $x$ values, instead of the $f(x)$ values.  Then\n",
    "$$ x(t) \\approx p(t) =  \\sum_{j=0}^{k} x_j \\ell_j(t)$$\n",
    "So $\\dot x \\approx \\frac{d p}{dt} $, where we simply differentiate $p$ as\n",
    "$$ \\frac{dp}{dt}  = \\sum_{j=0}^{k} x_j \\frac{d \\ell_j(t)}{dt} $$\n",
    "Putting this back into the differential equation\n",
    "$$ \\dot x = f(x) $$\n",
    "gives the discrete equation for the next time step\n",
    "$$ \\left.\\frac{dp}{dt}\\right|_{t_{i+1}} = f(x_{i+1}) $$ "
   ]
  },
  {
   "cell_type": "code",
   "execution_count": null,
   "metadata": {},
   "outputs": [],
   "source": [
    "n = 3\n",
    "P = [ X[i]*l(t, i, n) for i in 1:n ] |> sum"
   ]
  },
  {
   "cell_type": "code",
   "execution_count": null,
   "metadata": {},
   "outputs": [],
   "source": [
    "dP = diff(P,t)"
   ]
  },
  {
   "cell_type": "markdown",
   "metadata": {},
   "source": [
    "Again, let's assume that the time step is constant $h$"
   ]
  },
  {
   "cell_type": "code",
   "execution_count": null,
   "metadata": {},
   "outputs": [],
   "source": [
    "dP1 = dP |> subs(t=>T[n]) |>  subs(t2=>t1+h, t3=>t1+2*h, t4=>t1+3*h, t5=>t1+4*h, t6=>t1+5*h, t7=>t1+6*h, t8=>t1+7*h) |> simplify"
   ]
  },
  {
   "cell_type": "markdown",
   "metadata": {},
   "source": [
    "Now we can put this discrete approximation of the derivative back into the differential equation (where the $f = f(x_{i+1},t_{i+1})= f(x_3,t_3)$ "
   ]
  },
  {
   "cell_type": "code",
   "execution_count": null,
   "metadata": {},
   "outputs": [],
   "source": [
    "eq = Eq( dP1, f)"
   ]
  },
  {
   "cell_type": "markdown",
   "metadata": {},
   "source": [
    "Lastly we can solve this system for $x_3$"
   ]
  },
  {
   "cell_type": "code",
   "execution_count": null,
   "metadata": {},
   "outputs": [],
   "source": [
    "solve(eq, X[n] )[1]"
   ]
  },
  {
   "cell_type": "markdown",
   "metadata": {},
   "source": [
    "This gives the right-hand-side of the classic BDF2 formula"
   ]
  },
  {
   "cell_type": "code",
   "execution_count": null,
   "metadata": {},
   "outputs": [],
   "source": [
    "Eq( x3, solve(eq, X[n] )[1] )"
   ]
  },
  {
   "cell_type": "markdown",
   "metadata": {},
   "source": [
    "## variable time step\n",
    "Now I'm going to work with the variable step size methods for the vBDF.jl example"
   ]
  },
  {
   "cell_type": "code",
   "execution_count": null,
   "metadata": {},
   "outputs": [],
   "source": [
    "n = 3+1\n",
    "P = [ X[i]*l(t, i, n) for i in 1:n ] |> sum\n",
    "dP = diff(P,t) |> subs(t=>T[n])\n",
    "coeffList = [diff(dP, x) |> simplify for x in X[1:n] ]"
   ]
  },
  {
   "cell_type": "code",
   "execution_count": null,
   "metadata": {},
   "outputs": [],
   "source": [
    "@vars h h1 h0\n",
    "# h= t4 - t3; h1 = t3 - t2; h0 = t2 - t1\n",
    "hterms = [c |> subs( t4=> h + t3 ) |> subs( t3=> h1 + t2 ) |> subs( t2=> h0 + t1 ) |> expand |> simplify for c in coeffList ]"
   ]
  },
  {
   "cell_type": "code",
   "execution_count": null,
   "metadata": {},
   "outputs": [],
   "source": [
    "sympy.julia_code( hterms[1] ) |> println"
   ]
  },
  {
   "cell_type": "code",
   "execution_count": null,
   "metadata": {},
   "outputs": [],
   "source": []
  }
 ],
 "metadata": {
  "kernelspec": {
   "display_name": "Julia 1.11.7",
   "language": "julia",
   "name": "julia-1.11"
  },
  "language_info": {
   "file_extension": ".jl",
   "mimetype": "application/julia",
   "name": "julia",
   "version": "1.11.7"
  }
 },
 "nbformat": 4,
 "nbformat_minor": 4
}
